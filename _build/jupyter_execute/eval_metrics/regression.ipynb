{
 "cells": [
  {
   "cell_type": "markdown",
   "id": "6551c50c",
   "metadata": {},
   "source": [
    "# Regression metrics\n",
    "\n",
    "\n",
    "Regression metrics are used to evaluate the performance of regression models, which are machine learning models that predict continuous numeric values rather than discrete classes. \n",
    "\n",
    "As usual, denote dataset $\\mathcal D = \\{(\\boldsymbol x_i, y_i)\\}_{i=1}^n$, $y_i \\in \\mathbb R$, and let $\\widehat y_i$ be predictions of some regression model. Regression metrics show how good this predictions are."
   ]
  },
  {
   "cell_type": "markdown",
   "id": "d5fc2ab6",
   "metadata": {},
   "source": [
    "## Mean Squared Error (MSE)\n",
    "\n",
    "MSE calculates the average squared difference between the predicted values and the actual target values. \n",
    "\n",
    "$$\n",
    "\\mathrm{MSE} = \\frac{1}{n} \\sum_{i=1}^{n} (y_i - \\hat{y}_i)^2\n",
    "$$\n",
    "\n",
    "MSE gives more weight to large errors compared to smaller errors because it squares the differences between predicted and actual values. This can be advantageous or not depending on the task.\n",
    "\n",
    "**Advantages of MSE**\n",
    "\n",
    "* MSE is a smooth metric which makes it suitable for gradient optimization\n",
    "* Mathematical convenience\n",
    "\n",
    "**Disadvantages of MSE**\n",
    "\n",
    "* MSE is highly sensitive to outliers in the data\n",
    "* MSE is not scale-invariant which hurts interpretability\n",
    "* The squaring operation in MSE places more emphasis on larger errors\n",
    "\n",
    "\n",
    "## Root Mean Squared Error (RMSE)\n",
    "\n",
    "\n",
    "RMSE is the square root of MSE:\n",
    "\n",
    "$$\n",
    "\\mathrm{RMSE} = \\sqrt{\\mathrm{MSE}} = \\sqrt{\\frac{1}{n} \\sum_{i=1}^{n} (y_i - \\hat{y}_i)^2}\n",
    "$$\n",
    "\n",
    "It provides a measure of the standard deviation of prediction errors and is in the same units as the target variable. Thus, RMSE is more interpretable than MSE.\n"
   ]
  },
  {
   "cell_type": "markdown",
   "id": "592ceef7",
   "metadata": {},
   "source": [
    "## $R^2$-score"
   ]
  },
  {
   "cell_type": "markdown",
   "id": "50b5ed4d",
   "metadata": {},
   "source": [
    "To overcome some flaws of MSE the **coefficient of determination** (or **$R^2$-score**) used:\n",
    "\n",
    "```{math}\n",
    ":label: R2-score\n",
    "R^2 = 1 - \\frac{\\sum\\limits_{i=1}^n(y_i - \\widehat y_i)^2}{\\sum\\limits_{i=1}^n(y_i - \\overline {\\boldsymbol y})^2}.\n",
    "```\n",
    "\n",
    "The coefficient of determination shows proportion of variance explained. $R^2$-score does not exceed $1$ (the greater —  the better)."
   ]
  },
  {
   "cell_type": "markdown",
   "id": "a13ee8c6",
   "metadata": {},
   "source": [
    "## Mean Absolute Error (MAE)\n",
    "\n",
    "MAE calculates the average absolute difference between the predicted values and the actual target values. \n",
    "\n",
    "It gives an indication of how far off the predictions are on average.\n",
    "\n",
    "$$\n",
    "\\mathrm{MAE} = \\frac{1}{n} \\sum_{i=1}^{n} \\vert y_i - \\hat{y}_i\\vert.\n",
    "$$\n",
    "\n",
    "**Advantages of MAE**\n",
    "\n",
    "* MAE is straightforward to understand and interpret\n",
    "\n",
    "* MAE is less sensitive to outliers compared to some other metrics like MSE or RMSE\n",
    "\n",
    "* MAE is scale-invariant, meaning it doesn't change if the units of measurement of the target variable change\n",
    "\n",
    "**Disadvantages of MAE**\n",
    "\n",
    "* MAE is not differentiable at zero, which can cause issues when trying to use it in gradient optimization algorithms\n",
    "\n",
    "* While MAE is less sensitive to outliers than some other metrics, it is not completely immune to their influence; extreme outliers can still have a noticeable impact on MAE"
   ]
  },
  {
   "cell_type": "markdown",
   "id": "86d7ae44",
   "metadata": {},
   "source": [
    "## MAPE\n",
    "\n",
    "Mean Absolute Percentage Error (MAPE) metric is commonly used to measure the accuracy of forecasts or predictions, especially in time series forecasting and demand forecasting.\n",
    "\n",
    "$$\n",
    "\\mathrm{MAPE} = \\frac 1n\\sum_{i=1}^{n} \\frac{\\vert y_i - \\widehat{y}_i\\vert}{\\vert y_i \\vert}.\n",
    "$$\n",
    "\n",
    "This value is undefinded if $y_i = 0$, that's why sometimes another version of MAPE is used — **symmetric mean absolute percentage error** (**sMAPE**):\n",
    "\n",
    "$$\n",
    "\\mathrm{sMAPE} = \\frac 2n\\sum_{i=1}^{n} \\frac{\\vert y_i - \\widehat{y}_i\\vert}{\\vert y_i \\vert  + \\vert \\widehat y_i\\vert}.\n",
    "$$\n",
    "\n",
    "**Q**. Does MAPE necessary belongs to interval $[0, 1]$?"
   ]
  },
  {
   "cell_type": "markdown",
   "id": "a1ec1bd0",
   "metadata": {},
   "source": [
    "## Simulated example\n",
    "\n",
    "Take some line and add random noise to it:"
   ]
  },
  {
   "cell_type": "code",
   "execution_count": 1,
   "id": "0a47060b",
   "metadata": {},
   "outputs": [
    {
     "ename": "ModuleNotFoundError",
     "evalue": "No module named 'numpy'",
     "output_type": "error",
     "traceback": [
      "\u001b[0;31m---------------------------------------------------------------------------\u001b[0m",
      "\u001b[0;31mModuleNotFoundError\u001b[0m                       Traceback (most recent call last)",
      "Cell \u001b[0;32mIn[1], line 1\u001b[0m\n\u001b[0;32m----> 1\u001b[0m \u001b[38;5;28;01mimport\u001b[39;00m \u001b[38;5;21;01mnumpy\u001b[39;00m \u001b[38;5;28;01mas\u001b[39;00m \u001b[38;5;21;01mnp\u001b[39;00m\n\u001b[1;32m      2\u001b[0m \u001b[38;5;28;01mimport\u001b[39;00m \u001b[38;5;21;01mmatplotlib\u001b[39;00m\u001b[38;5;21;01m.\u001b[39;00m\u001b[38;5;21;01mpyplot\u001b[39;00m \u001b[38;5;28;01mas\u001b[39;00m \u001b[38;5;21;01mplt\u001b[39;00m\n\u001b[1;32m      4\u001b[0m get_ipython()\u001b[38;5;241m.\u001b[39mrun_line_magic(\u001b[38;5;124m'\u001b[39m\u001b[38;5;124mconfig\u001b[39m\u001b[38;5;124m'\u001b[39m, \u001b[38;5;124m\"\u001b[39m\u001b[38;5;124mInlineBackend.figure_format = \u001b[39m\u001b[38;5;124m'\u001b[39m\u001b[38;5;124msvg\u001b[39m\u001b[38;5;124m'\u001b[39m\u001b[38;5;124m\"\u001b[39m)\n",
      "\u001b[0;31mModuleNotFoundError\u001b[0m: No module named 'numpy'"
     ]
    }
   ],
   "source": [
    "import numpy as np\n",
    "import matplotlib.pyplot as plt\n",
    "\n",
    "%config InlineBackend.figure_format = 'svg'\n",
    "\n",
    "xs = np.linspace(0, 1, num=100, endpoint=False)\n",
    "a, b = -0.5, 1.7\n",
    "y = a * xs + b + 0.5*np.random.randn(100)\n",
    "\n",
    "plt.plot(xs, a * xs + b, c=\"r\", lw=2, label=\"Ground truth\")\n",
    "plt.scatter(xs, y, c=\"b\", s=10, label=\"Data\")\n",
    "plt.legend()\n",
    "plt.grid(ls=\":\");"
   ]
  },
  {
   "cell_type": "markdown",
   "id": "27305997",
   "metadata": {},
   "source": [
    "Fit linear regression model and check metrics:"
   ]
  },
  {
   "cell_type": "code",
   "execution_count": 2,
   "id": "ba8167b6",
   "metadata": {},
   "outputs": [
    {
     "ename": "ModuleNotFoundError",
     "evalue": "No module named 'sklearn'",
     "output_type": "error",
     "traceback": [
      "\u001b[0;31m---------------------------------------------------------------------------\u001b[0m",
      "\u001b[0;31mModuleNotFoundError\u001b[0m                       Traceback (most recent call last)",
      "Cell \u001b[0;32mIn[2], line 1\u001b[0m\n\u001b[0;32m----> 1\u001b[0m \u001b[38;5;28;01mfrom\u001b[39;00m \u001b[38;5;21;01msklearn\u001b[39;00m\u001b[38;5;21;01m.\u001b[39;00m\u001b[38;5;21;01mlinear_model\u001b[39;00m \u001b[38;5;28;01mimport\u001b[39;00m LinearRegression\n\u001b[1;32m      2\u001b[0m \u001b[38;5;28;01mfrom\u001b[39;00m \u001b[38;5;21;01msklearn\u001b[39;00m\u001b[38;5;21;01m.\u001b[39;00m\u001b[38;5;21;01mmetrics\u001b[39;00m \u001b[38;5;28;01mimport\u001b[39;00m mean_absolute_error, mean_squared_error, mean_absolute_percentage_error, r2_score\n\u001b[1;32m      5\u001b[0m lin_reg \u001b[38;5;241m=\u001b[39m LinearRegression()\n",
      "\u001b[0;31mModuleNotFoundError\u001b[0m: No module named 'sklearn'"
     ]
    }
   ],
   "source": [
    "from sklearn.linear_model import LinearRegression\n",
    "from sklearn.metrics import mean_absolute_error, mean_squared_error, mean_absolute_percentage_error, r2_score\n",
    "\n",
    "\n",
    "lin_reg = LinearRegression()\n",
    "lin_reg.fit(xs[:, None], y)\n",
    "y_hat = lin_reg.predict(xs[:, None])\n",
    "print(\"Bias:\", lin_reg.intercept_)\n",
    "print(\"Slope:\", lin_reg.coef_[0])\n",
    "\n",
    "mae = mean_absolute_error(y, y_hat)\n",
    "mse = mean_squared_error(y, y_hat)\n",
    "rmse = np.sqrt(mse)\n",
    "R2 = r2_score(y, y_hat)\n",
    "mape = mean_absolute_percentage_error(y, y_hat)\n",
    "\n",
    "print(f\"Mean Absolute Error (MAE): {mae:.4f}\")\n",
    "print(f\"Mean Squared Error (MSE): {mse:.4f}\")\n",
    "print(f\"Root Mean Squared Error (RMSE): {rmse:.4f}\")\n",
    "print(f\"R2-score: {R2:.4f}\")\n",
    "print(f\"Mean absolute percentage error(MAPE): {mape:.4f}\")"
   ]
  },
  {
   "cell_type": "markdown",
   "id": "615fe034",
   "metadata": {},
   "source": [
    "Now make one point to be an outlier:"
   ]
  },
  {
   "cell_type": "code",
   "execution_count": 3,
   "id": "79454f7a",
   "metadata": {},
   "outputs": [
    {
     "ename": "NameError",
     "evalue": "name 'y' is not defined",
     "output_type": "error",
     "traceback": [
      "\u001b[0;31m---------------------------------------------------------------------------\u001b[0m",
      "\u001b[0;31mNameError\u001b[0m                                 Traceback (most recent call last)",
      "Cell \u001b[0;32mIn[3], line 2\u001b[0m\n\u001b[1;32m      1\u001b[0m M \u001b[38;5;241m=\u001b[39m \u001b[38;5;241m20\u001b[39m\n\u001b[0;32m----> 2\u001b[0m \u001b[43my\u001b[49m[np\u001b[38;5;241m.\u001b[39mrandom\u001b[38;5;241m.\u001b[39mrandint(\u001b[38;5;28mlen\u001b[39m(y))] \u001b[38;5;241m+\u001b[39m\u001b[38;5;241m=\u001b[39m M\n\u001b[1;32m      3\u001b[0m plt\u001b[38;5;241m.\u001b[39mplot(xs, a \u001b[38;5;241m*\u001b[39m xs \u001b[38;5;241m+\u001b[39m b, c\u001b[38;5;241m=\u001b[39m\u001b[38;5;124m\"\u001b[39m\u001b[38;5;124mr\u001b[39m\u001b[38;5;124m\"\u001b[39m, lw\u001b[38;5;241m=\u001b[39m\u001b[38;5;241m2\u001b[39m, label\u001b[38;5;241m=\u001b[39m\u001b[38;5;124m\"\u001b[39m\u001b[38;5;124mGround truth\u001b[39m\u001b[38;5;124m\"\u001b[39m)\n\u001b[1;32m      4\u001b[0m plt\u001b[38;5;241m.\u001b[39mscatter(xs, y, c\u001b[38;5;241m=\u001b[39m\u001b[38;5;124m\"\u001b[39m\u001b[38;5;124mb\u001b[39m\u001b[38;5;124m\"\u001b[39m, s\u001b[38;5;241m=\u001b[39m\u001b[38;5;241m10\u001b[39m, label\u001b[38;5;241m=\u001b[39m\u001b[38;5;124m\"\u001b[39m\u001b[38;5;124mData\u001b[39m\u001b[38;5;124m\"\u001b[39m)\n",
      "\u001b[0;31mNameError\u001b[0m: name 'y' is not defined"
     ]
    }
   ],
   "source": [
    "M = 20\n",
    "y[np.random.randint(len(y))] += M\n",
    "plt.plot(xs, a * xs + b, c=\"r\", lw=2, label=\"Ground truth\")\n",
    "plt.scatter(xs, y, c=\"b\", s=10, label=\"Data\")\n",
    "plt.legend()\n",
    "plt.grid(ls=\":\");"
   ]
  },
  {
   "cell_type": "markdown",
   "id": "80ed3808",
   "metadata": {},
   "source": [
    "Fit linear regression once again:"
   ]
  },
  {
   "cell_type": "code",
   "execution_count": 4,
   "id": "8173ae4b",
   "metadata": {},
   "outputs": [
    {
     "ename": "NameError",
     "evalue": "name 'LinearRegression' is not defined",
     "output_type": "error",
     "traceback": [
      "\u001b[0;31m---------------------------------------------------------------------------\u001b[0m",
      "\u001b[0;31mNameError\u001b[0m                                 Traceback (most recent call last)",
      "Cell \u001b[0;32mIn[4], line 1\u001b[0m\n\u001b[0;32m----> 1\u001b[0m lin_reg \u001b[38;5;241m=\u001b[39m \u001b[43mLinearRegression\u001b[49m()\n\u001b[1;32m      2\u001b[0m lin_reg\u001b[38;5;241m.\u001b[39mfit(xs[:, \u001b[38;5;28;01mNone\u001b[39;00m], y)\n\u001b[1;32m      3\u001b[0m y_hat \u001b[38;5;241m=\u001b[39m lin_reg\u001b[38;5;241m.\u001b[39mpredict(xs[:, \u001b[38;5;28;01mNone\u001b[39;00m])\n",
      "\u001b[0;31mNameError\u001b[0m: name 'LinearRegression' is not defined"
     ]
    }
   ],
   "source": [
    "lin_reg = LinearRegression()\n",
    "lin_reg.fit(xs[:, None], y)\n",
    "y_hat = lin_reg.predict(xs[:, None])\n",
    "print(\"Bias:\", lin_reg.intercept_)\n",
    "print(\"Slope:\", lin_reg.coef_[0])"
   ]
  },
  {
   "cell_type": "markdown",
   "id": "a4282526",
   "metadata": {},
   "source": [
    "Print metrics:"
   ]
  },
  {
   "cell_type": "code",
   "execution_count": 5,
   "id": "836cb94f",
   "metadata": {},
   "outputs": [
    {
     "ename": "NameError",
     "evalue": "name 'mean_absolute_error' is not defined",
     "output_type": "error",
     "traceback": [
      "\u001b[0;31m---------------------------------------------------------------------------\u001b[0m",
      "\u001b[0;31mNameError\u001b[0m                                 Traceback (most recent call last)",
      "Cell \u001b[0;32mIn[5], line 1\u001b[0m\n\u001b[0;32m----> 1\u001b[0m mae \u001b[38;5;241m=\u001b[39m \u001b[43mmean_absolute_error\u001b[49m(y, y_hat)\n\u001b[1;32m      2\u001b[0m mse \u001b[38;5;241m=\u001b[39m mean_squared_error(y, y_hat)\n\u001b[1;32m      3\u001b[0m rmse \u001b[38;5;241m=\u001b[39m np\u001b[38;5;241m.\u001b[39msqrt(mse)\n",
      "\u001b[0;31mNameError\u001b[0m: name 'mean_absolute_error' is not defined"
     ]
    }
   ],
   "source": [
    "mae = mean_absolute_error(y, y_hat)\n",
    "mse = mean_squared_error(y, y_hat)\n",
    "rmse = np.sqrt(mse)\n",
    "R2 = r2_score(y, y_hat)\n",
    "mape = mean_absolute_percentage_error(y, y_hat)\n",
    "\n",
    "print(f\"Mean Absolute Error (MAE): {mae:.4f}\")\n",
    "print(f\"Mean Squared Error (MSE): {mse:.4f}\")\n",
    "print(f\"Root Mean Squared Error (RMSE): {rmse:.4f}\")\n",
    "print(f\"R2-score: {R2:.4f}\")\n",
    "print(f\"Mean absolute percentage error(MAPE): {mape:.4f}\")"
   ]
  },
  {
   "cell_type": "code",
   "execution_count": null,
   "id": "4182e022",
   "metadata": {},
   "outputs": [],
   "source": []
  }
 ],
 "metadata": {
  "kernelspec": {
   "display_name": "Python 3 (ipykernel)",
   "language": "python",
   "name": "python3"
  },
  "language_info": {
   "codemirror_mode": {
    "name": "ipython",
    "version": 3
   },
   "file_extension": ".py",
   "mimetype": "text/x-python",
   "name": "python",
   "nbconvert_exporter": "python",
   "pygments_lexer": "ipython3",
   "version": "3.11.6"
  }
 },
 "nbformat": 4,
 "nbformat_minor": 5
}