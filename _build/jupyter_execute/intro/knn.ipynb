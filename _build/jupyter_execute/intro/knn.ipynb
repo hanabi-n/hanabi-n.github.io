{
 "cells": [
  {
   "cell_type": "markdown",
   "metadata": {},
   "source": [
    "# k-Nearest Neighbors\n",
    "\n",
    "k-Nearest Neighbors is a nonparametric model. The idea is simple:\n",
    "\n",
    "* choose hyperparameter $k\\in\\mathbb N$;\n",
    "* choose a distance metric in $\\mathbb R^d$ (for example, Euclidean);\n",
    "* for a sample $\\boldsymbol x \\in \\mathbb R^d$ find its $k$ nearest neighbors among the training dataset;\n",
    "* classify or predict the label of $\\boldsymbol x$ according to the labels of its neighbors.\n",
    "\n",
    "## Distance in $\\mathbb R^d$\n",
    "\n",
    "How to calculate distance $\\rho (\\boldsymbol x, \\boldsymbol y)$ of vectors $\\boldsymbol x, \\boldsymbol y \\in\\mathbb R^d$?\n",
    "\n",
    "* Euclidean distance: $\\rho_2(\\boldsymbol x, \\boldsymbol y) = \\sqrt{\\sum\\limits_{i=1}^d (x_i - y_i)^2}$\n",
    "* Manhattan distance: $\\rho_1(\\boldsymbol x, \\boldsymbol y) = \\sum\\limits_{i=1}^d |x_i - y_i|$\n",
    "* Minkowski distance: $\\rho_p(\\boldsymbol x, \\boldsymbol y) = \\Big(\\sum\\limits_{i=1}^d |x_i - y_i|^p \\Big)^{\\frac 1p}$, $p \\geqslant 1$\n",
    "\n",
    "```{note}\n",
    "The distance to zero vector $\\rho_p(\\boldsymbol x, \\boldsymbol 0)$ is called **$p$-norm**:\n",
    "\n",
    "$$\n",
    "    \\| \\boldsymbol x \\|_p = \\Big(\\sum\\limits_{i=1}^d |x_i|^p \\Big)^{\\frac 1p}\n",
    "$$\n",
    "\n",
    "The **unit ball** in $\\mathbb R^d$ with respect to $p$-norm is defined as\n",
    "\n",
    "$$\n",
    "    \\{\\boldsymbol x \\in \\mathbb R^d \\colon \\|\\boldsymbol x\\|_p \\leqslant 1\\}.\n",
    "$$\n",
    "```"
   ]
  },
  {
   "cell_type": "code",
   "execution_count": 1,
   "metadata": {
    "tags": [
     "remove-input"
    ]
   },
   "outputs": [
    {
     "ename": "ModuleNotFoundError",
     "evalue": "No module named 'numpy'",
     "output_type": "error",
     "traceback": [
      "\u001b[0;31m---------------------------------------------------------------------------\u001b[0m",
      "\u001b[0;31mModuleNotFoundError\u001b[0m                       Traceback (most recent call last)",
      "Cell \u001b[0;32mIn[1], line 1\u001b[0m\n\u001b[0;32m----> 1\u001b[0m \u001b[38;5;28;01mimport\u001b[39;00m \u001b[38;5;21;01mnumpy\u001b[39;00m \u001b[38;5;28;01mas\u001b[39;00m \u001b[38;5;21;01mnp\u001b[39;00m\n\u001b[1;32m      2\u001b[0m \u001b[38;5;28;01mimport\u001b[39;00m \u001b[38;5;21;01mplotly\u001b[39;00m\u001b[38;5;21;01m.\u001b[39;00m\u001b[38;5;21;01mgraph_objects\u001b[39;00m \u001b[38;5;28;01mas\u001b[39;00m \u001b[38;5;21;01mgo\u001b[39;00m\n\u001b[1;32m      4\u001b[0m \u001b[38;5;28;01mfrom\u001b[39;00m \u001b[38;5;21;01mmatplotlib\u001b[39;00m \u001b[38;5;28;01mimport\u001b[39;00m cm\n",
      "\u001b[0;31mModuleNotFoundError\u001b[0m: No module named 'numpy'"
     ]
    }
   ],
   "source": [
    "import numpy as np\n",
    "import plotly.graph_objects as go\n",
    "\n",
    "from matplotlib import cm\n",
    "from matplotlib.colors import ListedColormap, LinearSegmentedColormap, to_hex\n",
    "\n",
    "deep_grey = '#3B4856' # основной тёмный / холодный цвет\n",
    "sky_blue = '#348FEA'\n",
    "marine_green = '#4CB9C0'\n",
    "grass_green = '#97C804'\n",
    "medium_yellow = '#FFC100' # основной светлый / тёплый цвет\n",
    "sicilian_orange = '#E06A27'\n",
    "fuchsia_pink = '#C81D6B'\n",
    "saturated_violet = '#5002A7'\n",
    "navy_blue = '#292183'\n",
    "cool_white = '#F5FBFF' # нужен, чтобы \"очень светлый фон\" выделялся на фоне белого фона страницы\n",
    "\n",
    "# Создадим бинарную палитру: класс 0 -- серый, класс 1 -- жёлтый\n",
    "cmap_yg_binary = ListedColormap([deep_grey, medium_yellow])\n",
    "\n",
    "# Создадим непрерывную палитру: класс 0 -- серый, класс 1 -- жёлтый\n",
    "cmap_yg_continuous = LinearSegmentedColormap.from_list(\n",
    "    'yandex_linear_cm', list(zip([0.0, 1.0], [deep_grey, medium_yellow]))\n",
    ")\n",
    "\n",
    "many_colors = [deep_grey, sky_blue, marine_green, grass_green, medium_yellow,\n",
    "    sicilian_orange, fuchsia_pink, saturated_violet, navy_blue, cool_white]\n",
    "\n",
    "def plot_slider_minkowski(ps, write_html=False):\n",
    "    fig = go.Figure()\n",
    "    p_inf = 500\n",
    "    ts = np.linspace(0, np.pi/2, num=200)\n",
    "    for i, p in enumerate(ps):\n",
    "        if p == \"∞\":\n",
    "            p = p_inf\n",
    "        xs = np.cos(ts) ** (2/p)\n",
    "        xs_full = np.hstack([xs, -xs[::-1], -xs, xs[::-1]])\n",
    "        ys = np.sin(ts) ** (2/p)\n",
    "        ys_full = np.hstack([ys, ys[::-1], -ys, -ys[::-1]])\n",
    "        fig.add_trace(\n",
    "            go.Scatter(\n",
    "                x=xs_full,\n",
    "                y=ys_full,\n",
    "                name=f\"p={ps[i]}\",\n",
    "                visible=False,\n",
    "                line=dict(color=to_hex(cmap_yg_continuous(i / len(ps))), width=3),\n",
    "                fill=\"tozeroy\",\n",
    "            )\n",
    "        )\n",
    "\n",
    "    fig.update_layout(\n",
    "                      width=600,\n",
    "                      title={\"text\": \"Minkowski unit disk\", \"x\": 0.5},\n",
    "                      xaxis=dict(title=\"x\"),\n",
    "                      yaxis=dict(title=\"y\", scaleanchor=\"x\", scaleratio=1),\n",
    "                      margin=dict(t=50))\n",
    "    \n",
    "    fig.add_vline(0)\n",
    "    fig.add_hline(0)\n",
    "    \n",
    "    fig.data[len(ps) // 2].visible = True\n",
    "\n",
    "    # Create and add slider\n",
    "    steps = []\n",
    "    for i in range(len(fig.data)):\n",
    "        step = dict(\n",
    "            method=\"update\",\n",
    "            args=[\n",
    "                {\"visible\": [False] * len(fig.data)},\n",
    "            ],  # layout attribute\n",
    "            label = ps[i]\n",
    "        )\n",
    "        step[\"args\"][0][\"visible\"][i] = True  # Toggle i'th trace to \"visible\"\n",
    "        steps.append(step)\n",
    "\n",
    "    sliders = [dict(\n",
    "        active=len(ps) // 2,\n",
    "        pad={\"t\": 50},\n",
    "        currentvalue={\"prefix\": r\"p=\"}, \n",
    "        steps=steps\n",
    "    )]\n",
    "        \n",
    "    fig.update_layout(\n",
    "        sliders=sliders,\n",
    "    )\n",
    "    if write_html:\n",
    "        fig.write_html(\"slider_minkowski.html\", full_html=False, include_plotlyjs='cdn', include_mathjax='cdn')\n",
    "    fig.show()"
   ]
  },
  {
   "cell_type": "code",
   "execution_count": 2,
   "metadata": {
    "tags": [
     "remove-input"
    ]
   },
   "outputs": [
    {
     "ename": "NameError",
     "evalue": "name 'plot_slider_minkowski' is not defined",
     "output_type": "error",
     "traceback": [
      "\u001b[0;31m---------------------------------------------------------------------------\u001b[0m",
      "\u001b[0;31mNameError\u001b[0m                                 Traceback (most recent call last)",
      "Cell \u001b[0;32mIn[2], line 1\u001b[0m\n\u001b[0;32m----> 1\u001b[0m \u001b[43mplot_slider_minkowski\u001b[49m([\u001b[38;5;241m0.67\u001b[39m, \u001b[38;5;241m0.8\u001b[39m, \u001b[38;5;241m1\u001b[39m, \u001b[38;5;241m1.2\u001b[39m, \u001b[38;5;241m1.4\u001b[39m, \u001b[38;5;241m1.5\u001b[39m,  \u001b[38;5;241m1.6\u001b[39m, \u001b[38;5;241m1.8\u001b[39m, \u001b[38;5;241m2\u001b[39m, \u001b[38;5;241m2.2\u001b[39m, \u001b[38;5;241m2.5\u001b[39m, \u001b[38;5;241m3\u001b[39m, \u001b[38;5;241m4\u001b[39m, \u001b[38;5;241m5\u001b[39m, \u001b[38;5;241m7\u001b[39m, \u001b[38;5;241m10\u001b[39m, \u001b[38;5;124m\"\u001b[39m\u001b[38;5;124m∞\u001b[39m\u001b[38;5;124m\"\u001b[39m], write_html\u001b[38;5;241m=\u001b[39m\u001b[38;5;28;01mTrue\u001b[39;00m)\n",
      "\u001b[0;31mNameError\u001b[0m: name 'plot_slider_minkowski' is not defined"
     ]
    }
   ],
   "source": [
    "plot_slider_minkowski([0.67, 0.8, 1, 1.2, 1.4, 1.5,  1.6, 1.8, 2, 2.2, 2.5, 3, 4, 5, 7, 10, \"∞\"], write_html=True)"
   ]
  },
  {
   "cell_type": "markdown",
   "metadata": {},
   "source": [
    "**Q**. The \"infinite\" norm is defined as \n",
    "\n",
    "$$\n",
    "    \\| \\boldsymbol x \\|_\\infty = \\lim\\limits_{p\\to +\\infty} \\| \\boldsymbol x \\|_p. \n",
    "$$\n",
    "\n",
    "What is the value of $\\lim\\limits_{p\\to +\\infty} \\Big(\\sum\\limits_{i=1}^d |x_i|^p \\Big)^{\\frac 1p}$?"
   ]
  },
  {
   "cell_type": "markdown",
   "metadata": {},
   "source": [
    "## k-NN algorithm\n",
    "\n",
    "```{figure} https://cdn.analyticsvidhya.com/wp-content/uploads/2018/03/knn3.png\n",
    ":align: center\n",
    ":width: 400px\n",
    "```\n",
    "\n",
    "Given the training dataset $\\{(\\boldsymbol x_i, y_i)\\}_{i=1}^n$, how to classify a new object $\\boldsymbol x$?\n",
    "\n",
    "1. Sort distances $\\rho (\\boldsymbol x_i, \\boldsymbol x)$ in increasing order:\n",
    "\n",
    "    $$\n",
    "    \\rho (\\boldsymbol x_{(1)}, \\boldsymbol x) \\leqslant \\rho (\\boldsymbol x_{(2)}, \\boldsymbol x) \\leqslant \\ldots \\leqslant \\rho (\\boldsymbol x_{(n)}, \\boldsymbol x) \n",
    "    $$\n",
    "\n",
    "2. So $\\boldsymbol x_{(i)}$ is the $i$-th neighbor of the object $\\boldsymbol x$\n",
    "\n",
    "3. Let $y_{(i)}$ be the label of $\\boldsymbol x_{(i)}$\n",
    "\n",
    "4. The label $\\hat y$ of the object $\\boldsymbol x\\in\\mathbb R^d$ is set to the most common label among $k$ neighbors of $\\boldsymbol x$:\n",
    "\n",
    "$$\n",
    "    \\widehat y = \\arg\\max_{y\\in Y} \\sum\\limits_{i=1}^k [y = y_{(i)}]\n",
    "$$\n",
    "\n",
    "For regression task the last step is subsituted by \n",
    "\n",
    "$$\n",
    "    \\widehat y = \\frac 1k\\sum\\limits_{i=1}^k y_{(i)}.\n",
    "$$\n",
    "\n",
    "Note that $\\widehat y = y_{(1)}$ if $k=1$.\n",
    "\n",
    "### Voronoi tessellation\n",
    "\n",
    "A k-NN classifier with $k=1$ induces a **Voronoi tessellation** of the points.\n",
    "This is a partition of space which associates a region $V(\\boldsymbol x_i)$ with each sample $\\boldsymbol x_i$ in such a way that all points in $V(\\boldsymbol x_i)$ are closer to  $\\boldsymbol x_i$ than to any other point. In other words,\n",
    "\n",
    "$$\n",
    "    V(\\boldsymbol x_i) = \\{\\boldsymbol z \\in \\mathbb R^n\\colon \\rho(\\boldsymbol x_i, \\boldsymbol z) < \\rho(\\boldsymbol x_j, \\boldsymbol z) \\text{ for all }j\\ne i\\}.\n",
    "$$"
   ]
  },
  {
   "cell_type": "code",
   "execution_count": 3,
   "metadata": {
    "tags": [
     "remove-input"
    ]
   },
   "outputs": [
    {
     "ename": "ModuleNotFoundError",
     "evalue": "No module named 'scipy'",
     "output_type": "error",
     "traceback": [
      "\u001b[0;31m---------------------------------------------------------------------------\u001b[0m",
      "\u001b[0;31mModuleNotFoundError\u001b[0m                       Traceback (most recent call last)",
      "Cell \u001b[0;32mIn[3], line 1\u001b[0m\n\u001b[0;32m----> 1\u001b[0m \u001b[38;5;28;01mfrom\u001b[39;00m \u001b[38;5;21;01mscipy\u001b[39;00m\u001b[38;5;21;01m.\u001b[39;00m\u001b[38;5;21;01mspatial\u001b[39;00m \u001b[38;5;28;01mimport\u001b[39;00m Voronoi, voronoi_plot_2d\n\u001b[1;32m      2\u001b[0m \u001b[38;5;28;01mimport\u001b[39;00m \u001b[38;5;21;01mmatplotlib\u001b[39;00m\u001b[38;5;21;01m.\u001b[39;00m\u001b[38;5;21;01mpyplot\u001b[39;00m \u001b[38;5;28;01mas\u001b[39;00m \u001b[38;5;21;01mplt\u001b[39;00m\n\u001b[1;32m      4\u001b[0m get_ipython()\u001b[38;5;241m.\u001b[39mrun_line_magic(\u001b[38;5;124m'\u001b[39m\u001b[38;5;124mconfig\u001b[39m\u001b[38;5;124m'\u001b[39m, \u001b[38;5;124m\"\u001b[39m\u001b[38;5;124mInlineBackend.figure_formats = [\u001b[39m\u001b[38;5;124m'\u001b[39m\u001b[38;5;124msvg\u001b[39m\u001b[38;5;124m'\u001b[39m\u001b[38;5;124m]\u001b[39m\u001b[38;5;124m\"\u001b[39m)\n",
      "\u001b[0;31mModuleNotFoundError\u001b[0m: No module named 'scipy'"
     ]
    }
   ],
   "source": [
    "from scipy.spatial import Voronoi, voronoi_plot_2d\n",
    "import matplotlib.pyplot as plt\n",
    "\n",
    "%config InlineBackend.figure_formats = ['svg']\n",
    "\n",
    "n = 10\n",
    "points = np.random.rand(n, 2)\n",
    "vor = Voronoi(points)\n",
    "fig = voronoi_plot_2d(vor)\n",
    "plt.title(\"Voronoi tessellation\");"
   ]
  },
  {
   "cell_type": "markdown",
   "metadata": {},
   "source": [
    "<span style=\"display:none\" id=\"q_1nn_train_loss\">W3sicXVlc3Rpb24iOiAiU3VwcG9zZSB3ZSBhcmUgdHJhaW5pbmcgJDEkLU5OIGFsZ29yaXRobSB1c2luZyBtaXNjbGFzc2lmaWNhdGlvbiByYXRlIGFzIHRoZSBsb3NzIGZ1bmN0aW9uLiBXaGF0IHdpbGwgYmUgdGhlIHRyYWluIGVycm9yPyIsICJ0eXBlIjogIm51bWVyaWMiLCAiYW5zd2VycyI6IFt7InR5cGUiOiAidmFsdWUiLCAidmFsdWUiOiAwLCAiY29ycmVjdCI6IHRydWUsICJmZWVkYmFjayI6ICJSaWdodCBvbiEgQWxsIHRyYWluaW5nIHBvaW50cyB3aWxsIGJlIGNsYXNzaWZpZWQgY29ycmVjdGx5In0sIHsidHlwZSI6ICJyYW5nZSIsICJyYW5nZSI6IFstMTAwMDAwMDAwMDAwMDAwMDAwMDAwMDAwMDAwMDAwMDAwMDAwMDAwMDAwMDAwMDAwMDAwMDAwMDAwMDAwMDAwMDAwMDAwMDAwMDAwMDAwMDAwMDAwMDAwMDAwMDAwMDAwMDAwMDAwMDAwMDAwMDAwMDAwMDAwMDAwMDAwMDAwMDAwMDAwMDAwMDAwMDAwMDAwMDAwMDAwMDAwMDAwMDAwMDAwMDAwMDAwMDAwMDAwMDAwMDAwMDAwMDAwMDAwMDAwMDAwMDAwMDAwMDAwMDAwMDAwMDAwMDAwMDAwMDAwMDAwMDAwMDAwMDAwMDAwMDAwMDAwMDAwMDAwMDAwMDAwMDAwMDAwMDAwMDAwMDAwMDAwMDAwMDAwMDAwMDAwMDAwMDAwMDAwMDAwMDAwMCwgMF0sICJmZWVkYmFjayI6ICJNaXNjbGFzc2lmaWNhdGlvbiByYXRlIG11c3QgYmUgYmV0d2VlbiAwIGFuZCAxIn0sIHsidHlwZSI6ICJyYW5nZSIsICJyYW5nZSI6IFsxLjAwMDAwMDAwMDEsIDEwMDAwMDAwMDAwMDAwMDAwMDAwMDAwMDAwMDAwMDAwMDAwMDAwMDAwMDAwMDAwMDAwMDAwMDAwMDAwMDAwMDAwMDAwMDAwMDAwMDAwMDAwMDAwMDAwMDAwMDAwMDAwMDAwMDAwMDAwMDAwMDAwMDAwMDAwMDAwMDAwMDAwMDAwMDAwMDAwMDAwMDAwMDAwMDAwMDAwMDAwMDAwMDAwMDAwMDAwMDAwMDAwMDAwMDAwMDAwMDAwMDAwMDAwMDAwMDAwMDAwMDAwMDAwMDAwMDAwMDAwMDAwMDAwMDAwMDAwMDAwMDAwMDAwMDAwMDAwMDAwMDAwMDAwMDAwMDAwMDAwMDAwMDAwMDAwMDAwMDAwMDAwMDAwMDAwMDAwMDAwMDAwMDAwMDAwMDAwMDBdLCAiZmVlZGJhY2siOiAiTWlzY2xhc3NpZmljYXRpb24gcmF0ZSBtdXN0IGJlIGJldHdlZW4gMCBhbmQgMSJ9LCB7InR5cGUiOiAiZGVmYXVsdCIsICJmZWVkYmFjayI6ICJObywgdGhpcyBpcyBub3QgdHJ1ZSJ9XX1d</span>"
   ]
  },
  {
   "cell_type": "code",
   "execution_count": 4,
   "metadata": {
    "tags": [
     "remove-input"
    ]
   },
   "outputs": [
    {
     "ename": "ModuleNotFoundError",
     "evalue": "No module named 'jupyterquiz'",
     "output_type": "error",
     "traceback": [
      "\u001b[0;31m---------------------------------------------------------------------------\u001b[0m",
      "\u001b[0;31mModuleNotFoundError\u001b[0m                       Traceback (most recent call last)",
      "Cell \u001b[0;32mIn[4], line 1\u001b[0m\n\u001b[0;32m----> 1\u001b[0m \u001b[38;5;28;01mfrom\u001b[39;00m \u001b[38;5;21;01mjupyterquiz\u001b[39;00m \u001b[38;5;28;01mimport\u001b[39;00m display_quiz\n\u001b[1;32m      2\u001b[0m display_quiz(\u001b[38;5;124m\"\u001b[39m\u001b[38;5;124m#q_1nn_train_loss\u001b[39m\u001b[38;5;124m\"\u001b[39m)\n",
      "\u001b[0;31mModuleNotFoundError\u001b[0m: No module named 'jupyterquiz'"
     ]
    }
   ],
   "source": [
    "from jupyterquiz import display_quiz\n",
    "display_quiz(\"#q_1nn_train_loss\")"
   ]
  },
  {
   "cell_type": "markdown",
   "metadata": {},
   "source": [
    "## Role of $k$\n",
    "\n",
    "The decision boundaries become smoother as $k$ grows. Here is an example from {cite:p}`pml1Book` (figure 16.2): k-NN algorithm is applied to simulated data with three clusters.\n",
    "\n",
    "```{figure} ./Murphy_16_2.png\n",
    ":align: center\n",
    "```\n",
    "\n",
    "**Q.** Look at the graph of train and test errors. For which values of $k$ we can suspect overfitting?\n",
    "\n",
    "```{admonition} Effective number of parameters of $k$-NN\n",
    ":class: note, dropdown\n",
    "It is equal to $\\frac n k$. To get an idea of why, note that if the neighborhoods were nonoverlapping, there would be $\\frac nk$ neighborhoods and we would fit one parameter (a mean) in each neighborhood ({cite:p}`hastie2009elements`, p. 14)\n",
    "```\n",
    "\n",
    "## Curse of dimensionality\n",
    "\n",
    "```{figure} https://www.researchgate.net/publication/347363976/figure/fig4/AS:970060722089985@1608291907488/Geometry-for-the-computation-of-the-volume-of-the-slice-We-ideally-slice-the-large-piece.png\n",
    ":align: center\n",
    "```\n",
    "Only red part of watermelon is useful, and watermelon rind is thrown away. Suppose that the watermelon is a ball of radius $R$, and the length of the rind is $10\\%$ of $R$. \n",
    "\n",
    "<span style=\"display:none\" id=\"watermelon\">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</span>"
   ]
  },
  {
   "cell_type": "code",
   "execution_count": 5,
   "metadata": {
    "tags": [
     "remove-input"
    ]
   },
   "outputs": [
    {
     "ename": "NameError",
     "evalue": "name 'display_quiz' is not defined",
     "output_type": "error",
     "traceback": [
      "\u001b[0;31m---------------------------------------------------------------------------\u001b[0m",
      "\u001b[0;31mNameError\u001b[0m                                 Traceback (most recent call last)",
      "Cell \u001b[0;32mIn[5], line 1\u001b[0m\n\u001b[0;32m----> 1\u001b[0m \u001b[43mdisplay_quiz\u001b[49m(\u001b[38;5;124m\"\u001b[39m\u001b[38;5;124m#watermelon\u001b[39m\u001b[38;5;124m\"\u001b[39m)\n",
      "\u001b[0;31mNameError\u001b[0m: name 'display_quiz' is not defined"
     ]
    }
   ],
   "source": [
    "display_quiz(\"#watermelon\")"
   ]
  },
  {
   "cell_type": "markdown",
   "metadata": {},
   "source": [
    "This is how the **curse of dimensionality** works. In $50$-dimensional space there is almost nothing to eat in a watermelon."
   ]
  },
  {
   "cell_type": "code",
   "execution_count": 6,
   "metadata": {
    "tags": [
     "remove-input"
    ]
   },
   "outputs": [
    {
     "ename": "NameError",
     "evalue": "name 'np' is not defined",
     "output_type": "error",
     "traceback": [
      "\u001b[0;31m---------------------------------------------------------------------------\u001b[0m",
      "\u001b[0;31mNameError\u001b[0m                                 Traceback (most recent call last)",
      "Cell \u001b[0;32mIn[6], line 2\u001b[0m\n\u001b[1;32m      1\u001b[0m n_max \u001b[38;5;241m=\u001b[39m \u001b[38;5;241m50\u001b[39m\n\u001b[0;32m----> 2\u001b[0m ns \u001b[38;5;241m=\u001b[39m \u001b[43mnp\u001b[49m\u001b[38;5;241m.\u001b[39marange(\u001b[38;5;241m1\u001b[39m, n_max \u001b[38;5;241m+\u001b[39m \u001b[38;5;241m1\u001b[39m)\n\u001b[1;32m      3\u001b[0m p \u001b[38;5;241m=\u001b[39m \u001b[38;5;241m0.9\u001b[39m\n\u001b[1;32m      4\u001b[0m plt\u001b[38;5;241m.\u001b[39mplot(ns, \u001b[38;5;241m100\u001b[39m\u001b[38;5;241m*\u001b[39mp\u001b[38;5;241m*\u001b[39m\u001b[38;5;241m*\u001b[39mns, lw\u001b[38;5;241m=\u001b[39m\u001b[38;5;241m2\u001b[39m, c\u001b[38;5;241m=\u001b[39m\u001b[38;5;124m'\u001b[39m\u001b[38;5;124mr\u001b[39m\u001b[38;5;124m'\u001b[39m, marker\u001b[38;5;241m=\u001b[39m\u001b[38;5;124m'\u001b[39m\u001b[38;5;124mo\u001b[39m\u001b[38;5;124m'\u001b[39m, markeredgecolor\u001b[38;5;241m=\u001b[39m\u001b[38;5;124m'\u001b[39m\u001b[38;5;124mb\u001b[39m\u001b[38;5;124m'\u001b[39m, markersize\u001b[38;5;241m=\u001b[39m\u001b[38;5;241m4\u001b[39m)\n",
      "\u001b[0;31mNameError\u001b[0m: name 'np' is not defined"
     ]
    }
   ],
   "source": [
    "n_max = 50\n",
    "ns = np.arange(1, n_max + 1)\n",
    "p = 0.9\n",
    "plt.plot(ns, 100*p**ns, lw=2, c='r', marker='o', markeredgecolor='b', markersize=4)\n",
    "plt.ylim(0, 80)\n",
    "plt.xlim(1, n_max)\n",
    "plt.title(\"Eatable percentage of watermelon\")\n",
    "plt.xlabel(\"Dimension\")\n",
    "plt.ylabel(\"Percentage\")\n",
    "plt.grid(ls=\":\")"
   ]
  },
  {
   "cell_type": "markdown",
   "metadata": {},
   "source": [
    "What are the consequenes of curse of the dimensionality for $k$-NN?\n",
    "\n",
    "```{admonition} A common example from textbooks\n",
    "Suppose we apply a $k$-NN classifier to data where the inputs are uniformly distributed in the $d$-dimensional unit cube. Suppose we estimate the density of class labels around a test point $\\boldsymbol x$ by \"growing\" a hyper-cube around $\\boldsymbol x$ until it contains a desired fraction $p$ of the data points. The expected edge length of this cube will be $e_d(p)=p^{\\frac 1d}$ (see {cite:p}`pml1Book`, p. 530-531). For example, if $d=10$ and we want to capture $1\\%$ of neighbours, we need extend the cube $e_{10}(0.01) \\approx 0.63$ along each dimension around $\\boldsymbol x$.\n",
    "```"
   ]
  },
  {
   "cell_type": "code",
   "execution_count": 7,
   "metadata": {
    "tags": [
     "remove-input"
    ]
   },
   "outputs": [
    {
     "ename": "NameError",
     "evalue": "name 'np' is not defined",
     "output_type": "error",
     "traceback": [
      "\u001b[0;31m---------------------------------------------------------------------------\u001b[0m",
      "\u001b[0;31mNameError\u001b[0m                                 Traceback (most recent call last)",
      "Cell \u001b[0;32mIn[7], line 1\u001b[0m\n\u001b[0;32m----> 1\u001b[0m ps \u001b[38;5;241m=\u001b[39m \u001b[43mnp\u001b[49m\u001b[38;5;241m.\u001b[39mlinspace(\u001b[38;5;241m0\u001b[39m, \u001b[38;5;241m1\u001b[39m, num\u001b[38;5;241m=\u001b[39m\u001b[38;5;241m201\u001b[39m)\n\u001b[1;32m      2\u001b[0m ds \u001b[38;5;241m=\u001b[39m [\u001b[38;5;241m1\u001b[39m, \u001b[38;5;241m3\u001b[39m, \u001b[38;5;241m5\u001b[39m, \u001b[38;5;241m7\u001b[39m, \u001b[38;5;241m10\u001b[39m]\n\u001b[1;32m      3\u001b[0m colors \u001b[38;5;241m=\u001b[39m [\u001b[38;5;124m'\u001b[39m\u001b[38;5;124mr\u001b[39m\u001b[38;5;124m'\u001b[39m, \u001b[38;5;124m'\u001b[39m\u001b[38;5;124mb\u001b[39m\u001b[38;5;124m'\u001b[39m, \u001b[38;5;124m'\u001b[39m\u001b[38;5;124mg\u001b[39m\u001b[38;5;124m'\u001b[39m, \u001b[38;5;124m'\u001b[39m\u001b[38;5;124morange\u001b[39m\u001b[38;5;124m'\u001b[39m, \u001b[38;5;124m'\u001b[39m\u001b[38;5;124mmaroon\u001b[39m\u001b[38;5;124m'\u001b[39m]\n",
      "\u001b[0;31mNameError\u001b[0m: name 'np' is not defined"
     ]
    }
   ],
   "source": [
    "ps = np.linspace(0, 1, num=201)\n",
    "ds = [1, 3, 5, 7, 10]\n",
    "colors = ['r', 'b', 'g', 'orange', 'maroon']\n",
    "for i, d in enumerate(ds):\n",
    "    plt.plot(ps, ps**(1./d), lw=2, c=colors[i], label=f\"$d={d}$\")\n",
    "\n",
    "plt.ylim(0, 1)\n",
    "plt.xlim(0, 1)\n",
    "plt.title(r\"$e_d(p)$\")\n",
    "plt.xlabel(\"Fraction, $p$\")\n",
    "plt.xticks(np.linspace(0, 1, 11))\n",
    "plt.yticks(np.linspace(0, 1, 11))\n",
    "plt.legend()\n",
    "plt.grid(ls=\":\")"
   ]
  },
  {
   "cell_type": "markdown",
   "metadata": {},
   "source": [
    "```{admonition} TODO\n",
    ":class: warning\n",
    "* Make the last plot interactive\n",
    "* Apply k-NN to some real datasets\n",
    "* Add a plot and quiz on manual calculations with nearest neighbors\n",
    "```"
   ]
  }
 ],
 "metadata": {
  "kernelspec": {
   "display_name": "Python 3",
   "language": "python",
   "name": "python3"
  },
  "language_info": {
   "codemirror_mode": {
    "name": "ipython",
    "version": 3
   },
   "file_extension": ".py",
   "mimetype": "text/x-python",
   "name": "python",
   "nbconvert_exporter": "python",
   "pygments_lexer": "ipython3",
   "version": "3.11.6"
  }
 },
 "nbformat": 4,
 "nbformat_minor": 2
}